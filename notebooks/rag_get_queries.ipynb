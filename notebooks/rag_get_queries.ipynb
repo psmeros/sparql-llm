{
 "cells": [
  {
   "cell_type": "markdown",
   "metadata": {},
   "source": [
    "# Get most relevant SIB SPARQL queries using similarity search\n",
    "\n",
    "Using `fastembed-gpu` library, FlagEmbedding large 1.5 embedding model, and Qdrant vectorstore"
   ]
  },
  {
   "cell_type": "code",
   "execution_count": 12,
   "metadata": {},
   "outputs": [
    {
     "name": "stderr",
     "output_type": "stream",
     "text": [
      "Fetching 5 files: 100%|██████████| 5/5 [00:00<00:00, 24672.38it/s]\n"
     ]
    },
    {
     "name": "stdout",
     "output_type": "stream",
     "text": [
      "VectorDB loaded with 70 vectors\n",
      "Give me an example to access cross references from the UniProt SPARQL endpoint to all the databases available in the endpoint\n",
      "0.754 {'comment': 'UniProt: Select the average number of cross-references to the PDB database of UniProt entries that have at least one cross-reference to the PDB database', 'endpoint': 'https://sparql.uniprot.org/sparql/', 'query': 'PREFIX up: <http://purl.uniprot.org/core/>\\nPREFIX rdfs: <http://www.w3.org/2000/01/rdf-schema#>\\nSELECT (AVG(?linksToPdbPerEntry) AS ?avgLinksToPdbPerEntry)\\nWHERE\\n{\\n\\tSELECT ?protein (COUNT(DISTINCT ?db) AS ?linksToPdbPerEntry)\\n\\tWHERE\\n\\t{\\n\\t\\t?protein a up:Protein .\\n\\t\\t?protein rdfs:seeAlso ?db .\\n\\t\\t?db up:database <http://purl.uniprot.org/database/PDB> .\\n\\t}\\n\\tGROUP BY ?protein ORDER BY DESC(?linksToPdbPerEntry)\\n}'}\n",
      "0.747 {'comment': 'UniProt: Select a mapping of UniProt to PDB entries using the UniProt cross-references to the PDB database', 'endpoint': 'https://sparql.uniprot.org/sparql/', 'query': 'PREFIX up: <http://purl.uniprot.org/core/>\\nPREFIX rdfs: <http://www.w3.org/2000/01/rdf-schema#>\\nSELECT ?protein ?db\\nWHERE\\n{\\n    ?protein a up:Protein .\\n    ?protein rdfs:seeAlso ?db .\\n    ?db up:database <http://purl.uniprot.org/database/PDB>\\n}'}\n",
      "0.714 {'comment': 'UniProt: Retrieve entries and Catalytic activities in the reviewed (Swiss-Prot) section that have experimental evidences,', 'endpoint': 'https://sparql.uniprot.org/sparql/', 'query': 'PREFIX up: <http://purl.uniprot.org/core/>\\nPREFIX rdf: <http://www.w3.org/1999/02/22-rdf-syntax-ns#>\\nSELECT  \\n  ?protein\\n  ?rhea \\nWHERE {\\n  # ECO 269 is experimental evidence\\n  BIND (<http://purl.obolibrary.org/obo/ECO_0000269> as ?evidence)\\n  GRAPH <http://sparql.uniprot.org/uniprot> {\\n    ?protein up:reviewed true ;\\n      up:annotation ?a ;\\n      up:attribution ?attribution  .\\n\\n    ?a a up:Catalytic_Activity_Annotation ;\\n      up:catalyticActivity ?ca .\\n    ?ca up:catalyzedReaction ?rhea .\\n  \\n    [] rdf:subject ?a ;\\n      rdf:predicate up:catalyticActivity ;\\n      rdf:object ?ca ;\\n      up:attribution ?attribution .\\n\\n    ?attribution up:evidence ?evidence .\\n  }\\n}\\n'}\n",
      "0.712 {'comment': 'UniProt: Find UniParc records whose sequence point to the most database entries', 'endpoint': 'https://sparql.uniprot.org/sparql/', 'query': 'PREFIX up: <http://purl.uniprot.org/core/>\\nSELECT ?sequence ?entries\\nWHERE\\n{\\n    SELECT \\n        ?sequence \\n        (COUNT(?entry) AS ?entries)\\n    WHERE\\n    {\\n        GRAPH <http://sparql.uniprot.org/uniparc> {\\n            ?sequence up:sequenceFor ?entry .\\n        }\\n    } GROUP BY ?sequence\\n} ORDER BY DESC(?entries)   \\n'}\n",
      "0.707 {'comment': \"UniProt: Select all cross-references to external databases of the category '3D structure databases' of UniProt entries that are classified with the keyword 'Acetoin biosynthesis (KW-0005)'\", 'endpoint': 'https://sparql.uniprot.org/sparql/', 'query': \"PREFIX up: <http://purl.uniprot.org/core/>\\nPREFIX rdfs: <http://www.w3.org/2000/01/rdf-schema#>\\nPREFIX keywords: <http://purl.uniprot.org/keywords/>\\nSELECT DISTINCT ?link\\nWHERE\\n{\\n    ?protein a up:Protein . \\n    ?protein up:classifiedWith keywords:5 .\\n    ?protein rdfs:seeAlso ?link .\\n    ?link up:database ?db .\\n    ?db up:category '3D structure databases'\\n}\"}\n",
      "0.706 {'endpoint': 'https://sparql.uniprot.org/sparql/', 'comment': 'UniProt: Map PDB identifiers plus chains to UniProt', 'query': \"PREFIX up: <http://purl.uniprot.org/core/>\\nPREFIX rdfs: <http://www.w3.org/2000/01/rdf-schema#>\\nSELECT\\n  ?pdbId ?chain ?pdbChain ?uniprot\\nWHERE\\n{\\n  # A space separated list of pairs of PDB identifiers and the chain code.\\n  VALUES(?pdbId ?pdbChain) { ('6VXC' 'A') ('1BG3' 'B') }\\n\\n  # Make an IRI out of the pdbId\\n  BIND(iri(concat('http://rdf.wwpdb.org/pdb/', ?pdbId)) AS ?pdb)\\n\\n  # Map to UniProt entries\\n  ?uniprot rdfs:seeAlso ?pdb .\\n  ?pdb up:database <http://purl.uniprot.org/database/PDB> ;\\n       up:chainSequenceMapping ?chainSm .\\n  ?chainSm up:chain ?chainsPlusRange .\\n\\n  # Extract the list of chains from the text representation.\\n  BIND(STRBEFORE(?chainsPlusRange, '=') AS ?chain)\\n\\n  # Filter those that match.\\n  FILTER(CONTAINS(?chain, ?pdbChain))\\n}\"}\n",
      "0.703 {'comment': 'UniProt: Connect patents cited in UniProtKB with those in the patent database at EPO via publication number.', 'endpoint': 'https://sparql.uniprot.org/sparql/', 'query': \"PREFIX up: <http://purl.uniprot.org/core/>\\nPREFIX skos: <http://www.w3.org/2004/02/skos/core#>\\nPREFIX patent: <http://data.epo.org/linked-data/def/patent/>\\n\\nSELECT ?citation ?patent ?application ?applicationNo\\nWHERE\\n{\\n  ?citation a up:Patent_Citation ;\\n    skos:exactMatch ?patent .\\n  FILTER(CONTAINS(STR(?patent), 'EP'))\\n  BIND(SUBSTR(STR(?patent), 35) AS ?applicationNo)\\n  SERVICE<https://data.epo.org/linked-data/query>{\\n    ?application patent:publicationNumber ?applicationNo\\n  }\\n}\"}\n",
      "0.702 {'endpoint': 'https://sparql.uniprot.org/sparql/', 'comment': 'UniProt: Map UniProt to HGNC identifiers and Symbols', 'query': \"PREFIX up: <http://purl.uniprot.org/core/>\\nPREFIX uniprotkb: <http://purl.uniprot.org/uniprot/>\\nPREFIX rdfs: <http://www.w3.org/2000/01/rdf-schema#>\\nSELECT\\n  ?uniprot\\n  ?hgnc\\n  ?hgncSymbol\\nWHERE\\n{\\n  # A space separated list of UniProt primary accessions.\\n  VALUES (?acc) {('P05067') ('P00750')}\\n  BIND(iri(concat(str(uniprotkb:), ?acc)) AS ?uniprot)\\n  ?uniprot rdfs:seeAlso ?hgnc .\\n  ?hgnc up:database <http://purl.uniprot.org/database/HGNC> ;\\n       rdfs:comment ?hgncSymbol .\\n}\"}\n",
      "0.701 {'comment': 'UniProt: Select all taxa from the UniProt taxonomy', 'endpoint': 'https://sparql.uniprot.org/sparql/', 'query': 'PREFIX up: <http://purl.uniprot.org/core/>\\nSELECT ?taxon\\nFROM <http://sparql.uniprot.org/taxonomy>\\nWHERE\\n{\\n    ?taxon a up:Taxon .\\n}'}\n",
      "0.694 {'comment': 'UniProt: Find the release number of the uniprot data that is currently being queried', 'endpoint': 'https://sparql.uniprot.org/sparql/', 'query': 'SELECT\\n    ?version    \\nFROM <http://sparql.uniprot.org/.well-known/void>\\nWHERE\\n{   \\n    [] <http://purl.org/pav/version> ?version\\n}'}\n",
      "\n",
      "Give me an example to access cross references from the Bgee SPARQL endpoint to all the databases available in the endpoint\n",
      "0.653 {'comment': 'Bgee: What are the species present in Bgee?', 'endpoint': 'https://www.bgee.org/sparql/', 'query': 'PREFIX up: <http://purl.uniprot.org/core/>\\n\\nSELECT ?species WHERE {\\n    ?species a up:Taxon .\\n}\\n'}\n",
      "0.643 {'comment': 'UniProt: Select the average number of cross-references to the PDB database of UniProt entries that have at least one cross-reference to the PDB database', 'endpoint': 'https://sparql.uniprot.org/sparql/', 'query': 'PREFIX up: <http://purl.uniprot.org/core/>\\nPREFIX rdfs: <http://www.w3.org/2000/01/rdf-schema#>\\nSELECT (AVG(?linksToPdbPerEntry) AS ?avgLinksToPdbPerEntry)\\nWHERE\\n{\\n\\tSELECT ?protein (COUNT(DISTINCT ?db) AS ?linksToPdbPerEntry)\\n\\tWHERE\\n\\t{\\n\\t\\t?protein a up:Protein .\\n\\t\\t?protein rdfs:seeAlso ?db .\\n\\t\\t?db up:database <http://purl.uniprot.org/database/PDB> .\\n\\t}\\n\\tGROUP BY ?protein ORDER BY DESC(?linksToPdbPerEntry)\\n}'}\n",
      "0.629 {'comment': 'UniProt: Select a mapping of UniProt to PDB entries using the UniProt cross-references to the PDB database', 'endpoint': 'https://sparql.uniprot.org/sparql/', 'query': 'PREFIX up: <http://purl.uniprot.org/core/>\\nPREFIX rdfs: <http://www.w3.org/2000/01/rdf-schema#>\\nSELECT ?protein ?db\\nWHERE\\n{\\n    ?protein a up:Protein .\\n    ?protein rdfs:seeAlso ?db .\\n    ?db up:database <http://purl.uniprot.org/database/PDB>\\n}'}\n",
      "0.627 {'comment': 'UniProt: Retrieve the UniProt proteins, their catalyzed Rhea reactions, their encoding genes (Ensembl) and the anatomic entities where the genes are expressed (UBERON anatomic entites from Bgee expression data resource).', 'endpoint': 'https://sparql.uniprot.org/sparql/', 'query': 'PREFIX up: <http://purl.uniprot.org/core/>\\nPREFIX taxon: <http://purl.uniprot.org/taxonomy/>\\nPREFIX rh: <http://rdf.rhea-db.org/>\\nPREFIX rdfs: <http://www.w3.org/2000/01/rdf-schema#>\\nPREFIX lscr: <http://purl.org/lscr#>\\nPREFIX genex: <http://purl.org/genex#>\\nPREFIX CHEBI: <http://purl.obolibrary.org/obo/CHEBI_>\\nSELECT\\n        DISTINCT \\n            ?protein\\n            ?ensemblGene\\n            ?reaction\\n            ?anatomicEntityLabel\\n            ?anatomicEntity\\nWHERE {\\n  # federated query to Rhea enadpoint\\n  {\\n    SELECT DISTINCT ?reaction WHERE {\\n      SERVICE <https://sparql.rhea-db.org/sparql> {\\n        ?reaction rdfs:subClassOf rh:Reaction .\\n        ?reaction rh:equation ?reactionEquation .\\n        ?reaction rh:side ?reactionSide .\\n        ?reactionSide rh:contains ?participant .\\n        ?participant rh:compound ?compound .\\n        # compound constraint (CHEBI:16113 == cholesterol)\\n        ?compound rh:chebi CHEBI:16113 .\\n      }\\n    }\\n  }\\n  # taxonomy constraint (taxon:9606 == Homo sapiens)\\n  ?protein up:organism taxon:9606 .\\n  ?protein up:annotation ?a .\\n  ?a a up:Catalytic_Activity_Annotation .\\n  ?a up:catalyticActivity ?ca .\\n  ?ca up:catalyzedReaction ?reaction .\\n  ?protein rdfs:seeAlso / up:transcribedFrom ?ensemblGene .\\n\\n  # federated query to Bgee (expression data)\\n  SERVICE <http://biosoda.expasy.org/rdf4j-server/repositories/bgeelight> {\\n    ?gene genex:isExpressedIn ?anatomicEntity .\\n    ?gene lscr:xrefEnsemblGene ?ensemblGene .\\n    ?anatomicEntity rdfs:label ?anatomicEntityLabel .\\n  }\\n}'}\n",
      "0.625 {'comment': 'Bgee: What is the post-juvenile stage link and description?', 'endpoint': 'https://www.bgee.org/sparql/', 'query': 'PREFIX rdfs: <http://www.w3.org/2000/01/rdf-schema#>\\nPREFIX dcterms: <http://purl.org/dc/terms/>\\n\\nSELECT DISTINCT ?stage ?stageName ?stageDescription WHERE {\\n    ?stage a efo:EFO_0000399 ;\\n        rdfs:label ?stageName ;\\n        dcterms:description ?stageDescription .\\n    FILTER (CONTAINS(?stageName,\"post-juvenile\"))\\n}\\n'}\n",
      "0.619 {'endpoint': 'https://www.bgee.org/sparql/', 'comment': 'Bgee: What are the developmental stages present in Bgee?', 'query': 'PREFIX rdfs: <http://www.w3.org/2000/01/rdf-schema#>\\nPREFIX dcterms: <http://purl.org/dc/terms/>\\n\\nSELECT DISTINCT ?stage ?stageName ?stageDescription WHERE {\\n    ?stage a efo:EFO_0000399 ;\\n        rdfs:label ?stageName ;\\n        dcterms:description ?stageDescription .\\n}\\n'}\n",
      "0.618 {'endpoint': 'https://www.bgee.org/sparql/', 'comment': 'Bgee: What are the species present in Bgee and their scientific and common names?', 'query': 'PREFIX up: <http://purl.uniprot.org/core/>\\n\\nSELECT ?species ?sci_name ?common_name WHERE {\\n    ?species a up:Taxon ;\\n        up:scientificName ?sci_name ;\\n        up:rank up:Species .\\n    OPTIONAL { ?species up:commonName ?common_name . }\\n}\\n'}\n",
      "0.610 {'comment': \"UniProt: Select all cross-references to external databases of the category '3D structure databases' of UniProt entries that are classified with the keyword 'Acetoin biosynthesis (KW-0005)'\", 'endpoint': 'https://sparql.uniprot.org/sparql/', 'query': \"PREFIX up: <http://purl.uniprot.org/core/>\\nPREFIX rdfs: <http://www.w3.org/2000/01/rdf-schema#>\\nPREFIX keywords: <http://purl.uniprot.org/keywords/>\\nSELECT DISTINCT ?link\\nWHERE\\n{\\n    ?protein a up:Protein . \\n    ?protein up:classifiedWith keywords:5 .\\n    ?protein rdfs:seeAlso ?link .\\n    ?link up:database ?db .\\n    ?db up:category '3D structure databases'\\n}\"}\n",
      "0.603 {'endpoint': 'https://sparql.uniprot.org/sparql/', 'comment': 'UniProt: Map UniProt to HGNC identifiers and Symbols', 'query': \"PREFIX up: <http://purl.uniprot.org/core/>\\nPREFIX uniprotkb: <http://purl.uniprot.org/uniprot/>\\nPREFIX rdfs: <http://www.w3.org/2000/01/rdf-schema#>\\nSELECT\\n  ?uniprot\\n  ?hgnc\\n  ?hgncSymbol\\nWHERE\\n{\\n  # A space separated list of UniProt primary accessions.\\n  VALUES (?acc) {('P05067') ('P00750')}\\n  BIND(iri(concat(str(uniprotkb:), ?acc)) AS ?uniprot)\\n  ?uniprot rdfs:seeAlso ?hgnc .\\n  ?hgnc up:database <http://purl.uniprot.org/database/HGNC> ;\\n       rdfs:comment ?hgncSymbol .\\n}\"}\n",
      "0.590 {'comment': 'UniProt: Map PDB identifiers plus chains to UniProt', 'endpoint': 'https://sparql.uniprot.org/sparql/', 'query': \"PREFIX up: <http://purl.uniprot.org/core/>\\nPREFIX rdfs: <http://www.w3.org/2000/01/rdf-schema#>\\nSELECT\\n  ?pdbId ?chain ?pdbChain ?uniprot\\nWHERE\\n{\\n  # A space separated list of pairs of PDB identifiers and the chain code.\\n  VALUES(?pdbId ?pdbChain) { ('6VXC' 'A') ('1BG3' 'B') }\\n\\n  # Make an IRI out of the pdbId\\n  BIND(iri(concat('http://rdf.wwpdb.org/pdb/', ?pdbId)) AS ?pdb)\\n\\n  # Map to UniProt entries\\n  ?uniprot rdfs:seeAlso ?pdb .\\n  ?pdb up:database <http://purl.uniprot.org/database/PDB> ;\\n       up:chainSequenceMapping ?chainSm .\\n  ?chainSm up:chain ?chainsPlusRange .\\n\\n  # Extract the list of chains from the text representation.\\n  BIND(STRBEFORE(?chainsPlusRange, '=') AS ?chain)\\n\\n  # Filter those that match.\\n  FILTER(CONTAINS(?chain, ?pdbChain))\\n}\"}\n",
      "\n"
     ]
    }
   ],
   "source": [
    "\n",
    "from fastembed import TextEmbedding\n",
    "from qdrant_client import QdrantClient\n",
    "\n",
    "embedding_model = TextEmbedding(\"BAAI/bge-large-en-v1.5\")\n",
    "embedding_dimensions = 1024\n",
    "\n",
    "vectordb = QdrantClient(\n",
    "    host=\"qdrant\", # Running on the same docker network with compose\n",
    "    prefer_grpc=True,\n",
    ")\n",
    "collection_name=\"expasy-queries\"\n",
    "\n",
    "print(f\"VectorDB loaded with {vectordb.get_collection(collection_name).points_count} vectors\")\n",
    "\n",
    "search_queries = [\n",
    "    \"Give me an example to access cross references from the UniProt SPARQL endpoint to all the databases available in the endpoint\",\n",
    "    \"Give me an example to access cross references from the Bgee SPARQL endpoint to all the databases available in the endpoint\",\n",
    "]\n",
    "\n",
    "for search_query in search_queries:\n",
    "    print(search_query)\n",
    "    query_embeddings = list(embedding_model.embed([search_query]))\n",
    "    hits = vectordb.search(\n",
    "        collection_name=collection_name,\n",
    "        query_vector=query_embeddings[0],\n",
    "        limit=10,\n",
    "    )\n",
    "    for hit in hits:\n",
    "        print(f\"{hit.score:.3f}\", hit.payload)\n",
    "    print()"
   ]
  },
  {
   "cell_type": "markdown",
   "metadata": {},
   "source": []
  }
 ],
 "metadata": {
  "kernelspec": {
   "display_name": "expasy-api",
   "language": "python",
   "name": "python3"
  },
  "language_info": {
   "codemirror_mode": {
    "name": "ipython",
    "version": 3
   },
   "file_extension": ".py",
   "mimetype": "text/x-python",
   "name": "python",
   "nbconvert_exporter": "python",
   "pygments_lexer": "ipython3",
   "version": "3.10.12"
  }
 },
 "nbformat": 4,
 "nbformat_minor": 2
}
