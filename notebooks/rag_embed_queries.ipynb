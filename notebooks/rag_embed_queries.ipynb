{
 "cells": [
  {
   "cell_type": "markdown",
   "metadata": {},
   "source": [
    "# Generating embeddings for SIB SPARQL queries\n",
    "\n",
    "Using `fastembed` library, FlagEmbedding large 1.5 embedding model, and Qdrant vectorstore\n",
    "\n",
    "Example code for loading the large Babel concepts synonyms dataset to Qdrant: https://github.com/vemonet/concept-resolver/blob/main/src/babel_load.py\n",
    "\n",
    "Questions:\n",
    "* Which info can I get from the UniProt endpoint?\n",
    "* Give me an example to access cross references from the UniProt SPARQL endpoint to all the databases available in the endpoint"
   ]
  },
  {
   "cell_type": "code",
   "execution_count": 1,
   "metadata": {},
   "outputs": [
    {
     "name": "stderr",
     "output_type": "stream",
     "text": [
      "/home/vemonet/dev/expasy/expasy-api/.venv/expasy-api/lib/python3.10/site-packages/tqdm/auto.py:21: TqdmWarning: IProgress not found. Please update jupyter and ipywidgets. See https://ipywidgets.readthedocs.io/en/stable/user_install.html\n",
      "  from .autonotebook import tqdm as notebook_tqdm\n",
      "Fetching 5 files:   0%|          | 0/5 [00:00<?, ?it/s]\n",
      "special_tokens_map.json: 100%|██████████| 695/695 [00:00<00:00, 1.57MB/s]\n",
      "\n",
      "config.json: 100%|██████████| 742/742 [00:00<00:00, 2.51MB/s]\n",
      "\n",
      "tokenizer_config.json: 100%|██████████| 1.24k/1.24k [00:00<00:00, 750kB/s]\n",
      "tokenizer.json: 100%|██████████| 711k/711k [00:00<00:00, 2.42MB/s]\n",
      "model.onnx: 100%|██████████| 1.34G/1.34G [06:38<00:00, 3.36MB/s]\n",
      "Fetching 5 files: 100%|██████████| 5/5 [06:38<00:00, 79.77s/it] \n"
     ]
    },
    {
     "name": "stdout",
     "output_type": "stream",
     "text": [
      "Found 60 queries for https://sparql.uniprot.org/sparql/\n"
     ]
    },
    {
     "name": "stderr",
     "output_type": "stream",
     "text": [
      "/home/vemonet/dev/expasy/expasy-api/src/expasy_api/vectordb.py:55: MarkupResemblesLocatorWarning: The input looks more like a filename than markup. You may want to open this file and pass the filehandle into Beautiful Soup.\n",
      "  soup = BeautifulSoup(html_text, \"html.parser\")\n"
     ]
    },
    {
     "name": "stdout",
     "output_type": "stream",
     "text": [
      "Found 19 queries for https://www.bgee.org/sparql/\n",
      "Found 13 queries for https://sparql.omabrowser.org/sparql/\n",
      "Done generating embeddings for 92 queries\n"
     ]
    }
   ],
   "source": [
    "from expasy_api.vectordb import init_vectordb\n",
    "\n",
    "# system_prompt = \"\"\"You are Expasy, an assistant that helps users to query the databases from the Swiss Institute of Bioinformatics, such as UniProt or Bgee.\n",
    "# When writing the SPARQL query try to factorize the predicates/objects of a subject as much as possible, so that the user can understand the query and the results.\n",
    "# \"\"\"\n",
    "# examples_prompt: str = \"Here are a list of questions and queries that Expasy has learned to answer, use them as base when answering the question from the user:\"\n",
    "\n",
    "init_vectordb(\"localhost\")"
   ]
  },
  {
   "cell_type": "markdown",
   "metadata": {},
   "source": []
  }
 ],
 "metadata": {
  "kernelspec": {
   "display_name": "expasy-scripts",
   "language": "python",
   "name": "python3"
  },
  "language_info": {
   "codemirror_mode": {
    "name": "ipython",
    "version": 3
   },
   "file_extension": ".py",
   "mimetype": "text/x-python",
   "name": "python",
   "nbconvert_exporter": "python",
   "pygments_lexer": "ipython3",
   "version": "3.10.12"
  }
 },
 "nbformat": 4,
 "nbformat_minor": 2
}
